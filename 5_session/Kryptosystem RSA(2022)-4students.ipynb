{
 "cells": [
  {
   "cell_type": "markdown",
   "metadata": {},
   "source": [
    "# Kryptografia asymetryczna - kryptosystem RSA \n",
    "Kryptografia asymetryczna charakteryzuje się wykorzystaniem **pary kluczy publiczny-prywatny** (stąd nazwa kryptografia z kluczem publicznym). Klucz publiczny może być swobodnie dystrybuowany otwartym kanałem i służy do szyfrowania (a także do weryfikowania podpisu). Klucz prywatny musi być utrzymywany w tajności i służy do deszyfrowania (lub tworzenia podpisu). \n",
    "\n",
    "Chronologicznie pierwszym kryptosystemem asymetrycznym był protokół wymiany kluczu Diffiego-Hellmana-Merkla. Służy on bezpiecznej wymiany danych, które mogą być wykorzystane jako tajne klucze kryptograficzne lub mogą być użyte do wyprodukowania kluczy. \n",
    "\n",
    "Najbardziej znanym kryptosystem z kluczem publicznym jest RSA (nazwa pochodzi od wynalazów: Rivest, Shamir i Adlemann). RSA umożliwia szyfrowanie danych jak również realizację podpisu cyfrowego. Bezpieczeństwo RSA opiera się na obliczeniowej trudności rozwiązania **problemu faktoryzacji liczb całkowitych złożonych**. "
   ]
  },
  {
   "cell_type": "markdown",
   "metadata": {},
   "source": [
    "### Algorytm szybkiego potęgowania \n",
    "1. Zwykłe potęgowanie $n^{exp}$: $exp$ mnożeń \n",
    "2. Algorytm szybkiego potęgowania: część mnożeń zastępujemy podnoszeniem do kwadratu (_squaring_).\n",
    "    __Skąd mamy wiedzieć kiedy mnożyć, a kiedy potęgować?__"
   ]
  },
  {
   "cell_type": "code",
   "execution_count": 6,
   "metadata": {},
   "outputs": [],
   "source": [
    "def fastModularExponentation(b, exp, m):\n",
    "    res = 1\n",
    "    while exp > 1:\n",
    "        if exp & 1:\n",
    "            res = (res * b) % m\n",
    "        b = b ** 2 % m\n",
    "        exp >>= 1\n",
    "    return (b * res) % m"
   ]
  },
  {
   "cell_type": "markdown",
   "metadata": {},
   "source": [
    "### Skąd wziąć dużą liczbę pierwszą? \n",
    "**Wylosować i sprawdzić czy jest pierwsza!**\n",
    "\n",
    "Test probabilistyczny, np. Rabina-Millera. "
   ]
  },
  {
   "cell_type": "code",
   "execution_count": 48,
   "metadata": {},
   "outputs": [
    {
     "name": "stdout",
     "output_type": "stream",
     "text": [
      "True\n",
      "True\n",
      "True\n",
      "True\n"
     ]
    }
   ],
   "source": [
    "# print(pow(2, 1023, 2047))\n",
    "\n",
    "import random\n",
    "def isPrime(n, k):\n",
    "    if n < 2: return False\n",
    "    if n < 4: return True\n",
    "    if n % 2 == 0: return False    # speedup\n",
    "\n",
    "    s = 0\n",
    "    d = n-1\n",
    "    while d % 2 == 0:\n",
    "        s += 1\n",
    "        d //= 2\n",
    "\n",
    "    num_test = 0\n",
    "    for j in range(k):\n",
    "        a = random.randint(2, n - 1)\n",
    "        x = fastModularExponentation(a, d, n)\n",
    "        if x in [1, n - 1]:\n",
    "            num_test += 1\n",
    "            continue\n",
    "\n",
    "        for i in range(s):\n",
    "            x = x ** 2 % n\n",
    "            if x == n - 1:\n",
    "                num_test += 1\n",
    "                break      \n",
    "\n",
    "    if num_test == k:\n",
    "        return True\n",
    "\n",
    "    return False\n",
    "print(isPrime(257,10))\n",
    "print(isPrime(8812552729, 10))\n",
    "print(isPrime(67180858318509848771, 10))\n",
    "print(isPrime(92239438329986510041,10))\n",
    "\n"
   ]
  },
  {
   "cell_type": "markdown",
   "metadata": {},
   "source": [
    "### Obliczanie elementu odwrotnego w ciele skończonym\n",
    "1. Algorytm Euklidesa - znajdowanie największego wspólnego dzielnika\n",
    "2. Rozszerzony Algorytm Euklidesa - obliczanie elementu odwrotnego względem mnożenia w ciele skończonym\n",
    "\n",
    "Przeanalizuj poniższy kod."
   ]
  },
  {
   "cell_type": "code",
   "execution_count": 8,
   "metadata": {},
   "outputs": [
    {
     "name": "stdout",
     "output_type": "stream",
     "text": [
      "gcd( 154 , 801 ) =  1 5 -26\n",
      "Element odwrotny do  154 modulo 801 : 775\n",
      "775\n"
     ]
    }
   ],
   "source": [
    "\n",
    "## Funkcje pomocnicze \n",
    "def gcd(a, b):\n",
    "    # GCD - Greatest Common Divisor, Największy wspólny dzielnik \n",
    "    while a != 0:\n",
    "        a, b = b % a, a\n",
    "    return b\n",
    "\n",
    "# wersja rekurencyjna\n",
    "def gcdExtendedRecursion(a, b):  \n",
    "    # przypadek trywialny\n",
    "    if a == 0 :   \n",
    "        return b,1,0             \n",
    "    gcd,x1,y1 = gcdExtendedRecursion(b%a, a) #rekurencyjny Euklides      \n",
    "   \n",
    "    # sumowanie powrotne  \n",
    "    y = x1 - (b//a) * y1  \n",
    "    x = y1  \n",
    "    \n",
    "    return gcd,x,y \n",
    "\n",
    "#wersja iteracyjna\n",
    "def findModInverse(a, m):\n",
    "    # Zwraca liczbę x odwrotną do a ciele skończonym modulo m \n",
    "    # czyli (a*x) % m =1 \n",
    "\n",
    "    if gcd(a, m) != 1:\n",
    "        return None #a i m muszą być względnie pierwsze aby istniał element odwrotny \n",
    "\n",
    "    # Rozszerzony algorytm Euklidesa \n",
    "    u1, u2, u3 = 1, 0, a\n",
    "    v1, v2, v3 = 0, 1, m\n",
    "    while v3 != 0:\n",
    "        q = u3 // v3 # // operator dzielenie całkowitoliczbowego \n",
    "        v1, v2, v3, u1, u2, u3 = (u1 - q * v1), (u2 - q * v2), (u3 - q * v3), v1, v2, v3\n",
    "    return u1 % m\n",
    "\n",
    "\n",
    "a, b = 154,801\n",
    "g, x, y = gcdExtendedRecursion(a, b)  \n",
    "print(\"gcd(\", a , \",\" , b, \") = \", g, x, y)\n",
    "print(\"Element odwrotny do \", a, \"modulo\", b, \":\", y%b)\n",
    "\n",
    "print(findModInverse(154,801))"
   ]
  },
  {
   "cell_type": "markdown",
   "metadata": {},
   "source": [
    "## Generowanie kluczy w kryptosystemie RSA\n",
    "Potrzebujemy dwóch liczb pierwszych o naprawdę dużych rozmiarach - 2048 bitów obecnie uważa się niezbyt bezpieczny wybór. 4096 bitów jest z kolei wielkością nieco kłopotliwą w użytkowaniu.\n",
    "### Zadanie\n",
    "1. Napisz funkcję generującą liczbę pierwszą o określonej długości w bitach. "
   ]
  },
  {
   "cell_type": "code",
   "execution_count": 57,
   "metadata": {},
   "outputs": [
    {
     "ename": "KeyboardInterrupt",
     "evalue": "",
     "output_type": "error",
     "traceback": [
      "\u001b[1;31m---------------------------------------------------------------------------\u001b[0m",
      "\u001b[1;31mKeyboardInterrupt\u001b[0m                         Traceback (most recent call last)",
      "Cell \u001b[1;32mIn [57], line 10\u001b[0m\n\u001b[0;32m      7\u001b[0m         num \u001b[39m=\u001b[39m random\u001b[39m.\u001b[39mrandrange(\u001b[39m2\u001b[39m\u001b[39m*\u001b[39m\u001b[39m*\u001b[39mkeysize \u001b[39m-\u001b[39m \u001b[39m1\u001b[39m, \u001b[39m2\u001b[39m\u001b[39m*\u001b[39m\u001b[39m*\u001b[39mkeysize)\n\u001b[0;32m      8\u001b[0m     \u001b[39mreturn\u001b[39;00m num\n\u001b[1;32m---> 10\u001b[0m \u001b[39mprint\u001b[39m(generatePrime(\u001b[39m6\u001b[39;49m))\n",
      "Cell \u001b[1;32mIn [57], line 6\u001b[0m, in \u001b[0;36mgeneratePrime\u001b[1;34m(keysize)\u001b[0m\n\u001b[0;32m      2\u001b[0m \u001b[39mdef\u001b[39;00m \u001b[39mgeneratePrime\u001b[39m(keysize):\n\u001b[0;32m      3\u001b[0m     \u001b[39m#napisz swój kod tutaj\u001b[39;00m\n\u001b[0;32m      4\u001b[0m     num \u001b[39m=\u001b[39m random\u001b[39m.\u001b[39mrandrange(\u001b[39m2\u001b[39m\u001b[39m*\u001b[39m\u001b[39m*\u001b[39mkeysize \u001b[39m-\u001b[39m \u001b[39m1\u001b[39m, \u001b[39m2\u001b[39m\u001b[39m*\u001b[39m\u001b[39m*\u001b[39mkeysize)\n\u001b[1;32m----> 6\u001b[0m     \u001b[39mwhile\u001b[39;00m \u001b[39mnot\u001b[39;00m isPrime(num, \u001b[39m10\u001b[39;49m):\n\u001b[0;32m      7\u001b[0m         num \u001b[39m=\u001b[39m random\u001b[39m.\u001b[39mrandrange(\u001b[39m2\u001b[39m\u001b[39m*\u001b[39m\u001b[39m*\u001b[39mkeysize \u001b[39m-\u001b[39m \u001b[39m1\u001b[39m, \u001b[39m2\u001b[39m\u001b[39m*\u001b[39m\u001b[39m*\u001b[39mkeysize)\n\u001b[0;32m      8\u001b[0m     \u001b[39mreturn\u001b[39;00m num\n",
      "Cell \u001b[1;32mIn [48], line 18\u001b[0m, in \u001b[0;36misPrime\u001b[1;34m(n, k)\u001b[0m\n\u001b[0;32m     16\u001b[0m \u001b[39mfor\u001b[39;00m j \u001b[39min\u001b[39;00m \u001b[39mrange\u001b[39m(k):\n\u001b[0;32m     17\u001b[0m     a \u001b[39m=\u001b[39m random\u001b[39m.\u001b[39mrandint(\u001b[39m2\u001b[39m, n \u001b[39m-\u001b[39m \u001b[39m1\u001b[39m)\n\u001b[1;32m---> 18\u001b[0m     x \u001b[39m=\u001b[39m fastModularExponentation(a, d, n)\n\u001b[0;32m     19\u001b[0m     \u001b[39mif\u001b[39;00m x \u001b[39min\u001b[39;00m [\u001b[39m1\u001b[39m, n \u001b[39m-\u001b[39m \u001b[39m1\u001b[39m]:\n\u001b[0;32m     20\u001b[0m         num_test \u001b[39m+\u001b[39m\u001b[39m=\u001b[39m \u001b[39m1\u001b[39m\n",
      "Cell \u001b[1;32mIn [6], line 3\u001b[0m, in \u001b[0;36mfastModularExponentation\u001b[1;34m(b, exp, m)\u001b[0m\n\u001b[0;32m      1\u001b[0m \u001b[39mdef\u001b[39;00m \u001b[39mfastModularExponentation\u001b[39m(b, exp, m):\n\u001b[0;32m      2\u001b[0m     res \u001b[39m=\u001b[39m \u001b[39m1\u001b[39m\n\u001b[1;32m----> 3\u001b[0m     \u001b[39mwhile\u001b[39;00m exp \u001b[39m>\u001b[39;49m \u001b[39m1\u001b[39;49m:\n\u001b[0;32m      4\u001b[0m         \u001b[39mif\u001b[39;00m exp \u001b[39m&\u001b[39m \u001b[39m1\u001b[39m:\n\u001b[0;32m      5\u001b[0m             res \u001b[39m=\u001b[39m (res \u001b[39m*\u001b[39m b) \u001b[39m%\u001b[39m m\n",
      "\u001b[1;31mKeyboardInterrupt\u001b[0m: "
     ]
    }
   ],
   "source": [
    "#napisz funkcję generującą liczbę pierwszą \n",
    "def generatePrime(keysize):\n",
    "    #napisz swój kod tutaj\n",
    "    num = random.randrange(2**keysize - 1, 2**keysize)\n",
    "\n",
    "    while not isPrime(num, 10):\n",
    "        num = random.randrange(2**keysize - 1, 2**keysize)\n",
    "    return num\n",
    "\n",
    "print(generatePrime(6))"
   ]
  },
  {
   "cell_type": "markdown",
   "metadata": {},
   "source": [
    "## Zastanów się \n",
    "1. Znajdź zestawienie liczb silnie pseudopierwszych i sprawdź działanie (pojedynczego!) testy R-M dla takich liczb\n",
    "2. Ile testów R-M należy przeprowadzić aby osiągnąć bezpieczny poziom pewności testu"
   ]
  },
  {
   "cell_type": "markdown",
   "metadata": {},
   "source": [
    "### 2. Obliczamy składniki kluczy \n",
    "1. Wybieramy dwie duże liczby pierwsze $p$ i $q$\n",
    "2. Pierwszym składnikiem klucza jest moduł $n$ $n=p \\times q$ \n",
    "3. Poszukujemy wykładnika publicznego $e$, który jest względnie pierwszy z $(p-1)\\cdot (q-1)$ (czasami używane jest w miejscu pojęcie tocjentu lub funkcji Eulera: $\\phi(n) = \\phi(p)\\cdot \\phi(q) = (p − 1)·(q − 1)$)\n",
    "4. Poszukujemy wykładnika prywatnego $d$, które jest odwrotnością $e\\ (mod\\ (p-1)\\cdot (q-1))$: $de \\equiv 1  (mod\\ (p-1)\\cdot (q-1))$\n",
    "5. Kluczem publiczny jest para $(n, e)$, kluczem prywatnym jest para $(n, d)$."
   ]
  },
  {
   "cell_type": "markdown",
   "metadata": {},
   "source": [
    "## Zadanie \n",
    "\n",
    "1. Napisz funkcję generującą klucze RSA o ustalonym rozmiarze"
   ]
  },
  {
   "cell_type": "code",
   "execution_count": 10,
   "metadata": {},
   "outputs": [
    {
     "ename": "NameError",
     "evalue": "name 'publicKey' is not defined",
     "output_type": "error",
     "traceback": [
      "\u001b[1;31m---------------------------------------------------------------------------\u001b[0m",
      "\u001b[1;31mNameError\u001b[0m                                 Traceback (most recent call last)",
      "Cell \u001b[1;32mIn [10], line 8\u001b[0m\n\u001b[0;32m      3\u001b[0m \u001b[39mdef\u001b[39;00m \u001b[39mgenerateKey\u001b[39m(keySize):\n\u001b[0;32m      4\u001b[0m     \u001b[39m#napisz swój kod tutaj\u001b[39;00m\n\u001b[0;32m      6\u001b[0m     \u001b[39mreturn\u001b[39;00m (publicKey, privateKey)\n\u001b[1;32m----> 8\u001b[0m pub,priv \u001b[39m=\u001b[39m generateKey(\u001b[39m16\u001b[39;49m)\n\u001b[0;32m      9\u001b[0m \u001b[39mprint\u001b[39m(pub,priv)\n",
      "Cell \u001b[1;32mIn [10], line 6\u001b[0m, in \u001b[0;36mgenerateKey\u001b[1;34m(keySize)\u001b[0m\n\u001b[0;32m      3\u001b[0m \u001b[39mdef\u001b[39;00m \u001b[39mgenerateKey\u001b[39m(keySize):\n\u001b[0;32m      4\u001b[0m     \u001b[39m#napisz swój kod tutaj\u001b[39;00m\n\u001b[1;32m----> 6\u001b[0m     \u001b[39mreturn\u001b[39;00m (publicKey, privateKey)\n",
      "\u001b[1;31mNameError\u001b[0m: name 'publicKey' is not defined"
     ]
    }
   ],
   "source": [
    "import random, sys, os\n",
    "\n",
    "def generateKey(keySize):\n",
    "    \n",
    "    \n",
    "    return (publicKey, privateKey)\n",
    "\n",
    "pub,priv = generateKey(16)\n",
    "print(pub,priv)"
   ]
  },
  {
   "cell_type": "markdown",
   "metadata": {},
   "source": [
    "## Zadanie \n",
    "\n",
    "Napisz funkcje implementujące szyfrowanie i deszyfrowanie RSA (tzw. podręcznikowe)\n",
    "\n",
    "### Szyfrowanie RSA \n",
    "Operacja szyfrowania: $c=m^e (mod\\ n)$"
   ]
  },
  {
   "cell_type": "code",
   "execution_count": null,
   "metadata": {},
   "outputs": [],
   "source": [
    "def encrypt(message, modulus, exp):\n",
    "    # kod szyfrowania     \n",
    "  \n",
    "    return message_encrypted\n",
    "\n",
    "\n"
   ]
  },
  {
   "cell_type": "markdown",
   "metadata": {},
   "source": [
    "### Deszyfrowanie RSA \n",
    "Operacja szyfrowanie $m = c^d (mod\\ n)$"
   ]
  },
  {
   "cell_type": "code",
   "execution_count": null,
   "metadata": {},
   "outputs": [],
   "source": [
    "def decrypt(message_encrypted, modulus, exp):\n",
    "  \n",
    "    return ('').join(message_ascii)\n",
    "\n"
   ]
  },
  {
   "cell_type": "markdown",
   "metadata": {},
   "source": [
    "## Zastanów się\n",
    "1. Sprawdź działanie powyższej implementacji dla różnych wielkości klucza (podawane podczas generowania kluczy). \n",
    "2. Poszukaj informacji o trybie podręcznikowym RSA (*textbook RSA encryption*). Na czym polega? Jakie są jego wady i zalety? \n",
    "\n",
    "\n",
    "## Zadanie (dla chętnych)\n",
    "1. Zademonstruj deformowalność podręcznikowego szyfrowania RSA\n",
    "2. Zaimplementuj dopełnienie OAEP (_Optimal Assymmetric Encryption Padding_)\n"
   ]
  },
  {
   "cell_type": "code",
   "execution_count": null,
   "metadata": {},
   "outputs": [],
   "source": [
    "\n",
    "\n",
    "\n",
    "    "
   ]
  }
 ],
 "metadata": {
  "kernelspec": {
   "display_name": "Python 3",
   "language": "python",
   "name": "python3"
  },
  "language_info": {
   "codemirror_mode": {
    "name": "ipython",
    "version": 3
   },
   "file_extension": ".py",
   "mimetype": "text/x-python",
   "name": "python",
   "nbconvert_exporter": "python",
   "pygments_lexer": "ipython3",
   "version": "3.11.0 (main, Oct 24 2022, 18:26:48) [MSC v.1933 64 bit (AMD64)]"
  },
  "vscode": {
   "interpreter": {
    "hash": "98f26e2dbefc15f9c7c4aac2af27595c9f0f9205c75ac8f856ece79a0df83888"
   }
  }
 },
 "nbformat": 4,
 "nbformat_minor": 2
}
